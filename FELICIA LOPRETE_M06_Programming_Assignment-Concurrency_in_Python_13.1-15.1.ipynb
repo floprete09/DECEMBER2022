{
 "cells": [
  {
   "cell_type": "code",
   "execution_count": 1,
   "id": "4b398693",
   "metadata": {},
   "outputs": [
    {
     "name": "stdout",
     "output_type": "stream",
     "text": [
      "The time is 01:36:48\n",
      "The time is 01:36:48\n",
      "The time is 01:36:48\n",
      "Congratulations! You now have printed the time three times in random intervals!\n"
     ]
    }
   ],
   "source": [
    "import multiprocessing\n",
    "from datetime import datetime\n",
    "import time\n",
    "import random\n",
    "\n",
    "currentDateAndTime = datetime.now()\n",
    "\n",
    "currentTime = currentDateAndTime.strftime(\"%H:%M:%S\")\n",
    "\n",
    "def print_time():\n",
    "    now = currentDateAndTime.strftime(\"%H:%M:%S\")\n",
    "    print(\"The time is {}\".format(now))\n",
    "    time.sleep(random.random())\n",
    "\n",
    " \n",
    "if __name__ == '__main__':\n",
    "    proc1 = multiprocessing.Process(target=print_time())\n",
    "    proc2 = multiprocessing.Process(target=print_time())\n",
    "    proc3 = multiprocessing.Process(target=print_time())\n",
    "    proc1.start()\n",
    "    proc2.start()\n",
    "    proc3.start()\n",
    "    proc1.join()\n",
    "    proc2.join()\n",
    "    proc3.join()\n",
    "\n",
    "    print(\"Congratulations! You now have printed the time three times in random intervals!\")\n",
    "\n"
   ]
  },
  {
   "cell_type": "code",
   "execution_count": 2,
   "id": "ad3c630d",
   "metadata": {},
   "outputs": [
    {
     "name": "stdout",
     "output_type": "stream",
     "text": [
      "Today is 2022-12-07\n",
      "My birthday was on 1976-09-23\n",
      "My birthday was on Thursday\n",
      "I was 10,000 days old on 2004-02-09\n"
     ]
    }
   ],
   "source": [
    "import datetime\n",
    "today = datetime.date.today()\n",
    "file = open('today.txt', 'w')\n",
    "file.write(str(today))\n",
    "file.close()\n",
    "\n",
    "\n",
    "file = open('today.txt', 'r')\n",
    "today_date = file.read()\n",
    "file.close()\n",
    "\n",
    "\n",
    "today = datetime.datetime.strptime(today_date, '%Y-%m-%d').date()\n",
    "print('Today is', today)\n",
    "\n",
    "\n",
    "my_birthday = datetime.date(1976, 9, 23)\n",
    "print('My birthday was on', my_birthday)\n",
    "\n",
    "\n",
    "print('My birthday was on', my_birthday.strftime('%A'))\n",
    "\n",
    "\n",
    "numbers_days = my_birthday + datetime.timedelta(days=10000)\n",
    "print('I was 10,000 days old on', numbers_days)\n"
   ]
  },
  {
   "cell_type": "code",
   "execution_count": null,
   "id": "f78fb830",
   "metadata": {},
   "outputs": [],
   "source": []
  }
 ],
 "metadata": {
  "kernelspec": {
   "display_name": "Python 3",
   "language": "python",
   "name": "python3"
  },
  "language_info": {
   "codemirror_mode": {
    "name": "ipython",
    "version": 3
   },
   "file_extension": ".py",
   "mimetype": "text/x-python",
   "name": "python",
   "nbconvert_exporter": "python",
   "pygments_lexer": "ipython3",
   "version": "3.6.9"
  }
 },
 "nbformat": 4,
 "nbformat_minor": 5
}
